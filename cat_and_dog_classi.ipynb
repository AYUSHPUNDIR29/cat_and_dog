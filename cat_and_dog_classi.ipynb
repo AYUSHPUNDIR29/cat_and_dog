{
 "cells": [
  {
   "cell_type": "code",
   "execution_count": 73,
   "id": "01e24113-091a-4ed8-be25-760a2756083a",
   "metadata": {},
   "outputs": [],
   "source": [
    "import numpy as np\n",
    "import cv2\n",
    "import os\n",
    "import random\n",
    "import matplotlib.pyplot as plt\n",
    "import pickle"
   ]
  },
  {
   "cell_type": "code",
   "execution_count": 74,
   "id": "137387c2-e86b-47be-b3d1-4016174de600",
   "metadata": {},
   "outputs": [],
   "source": [
    "DIRECTORY=r'C:\\Ayush Singh Pundir\\2218599\\sem 5\\machine_learnig\\jupyter_project\\new_dog_cat_classi'\n",
    "CATEGORIES= ['cat','dog']"
   ]
  },
  {
   "cell_type": "code",
   "execution_count": 75,
   "id": "5f74e30d-e21b-47d9-99f1-2b50c365e334",
   "metadata": {},
   "outputs": [],
   "source": [
    "img_s=60\n",
    "data = []\n",
    "\n",
    "for category in CATEGORIES:\n",
    "    path = os.path.join(DIRECTORY, category)\n",
    "    label = CATEGORIES.index(category)\n",
    "    for img in os.listdir(path):\n",
    "        img_path = os.path.join(path, img)\n",
    "        arr = cv2.imread(img_path)   \n",
    "        arr = cv2.resize(arr, (img_s, img_s))\n",
    "        data.append([arr, label])"
   ]
  },
  {
   "cell_type": "code",
   "execution_count": 104,
   "id": "99cd0494-8c63-44d8-bb15-831a12866c24",
   "metadata": {},
   "outputs": [
    {
     "data": {
      "text/plain": [
       "20000"
      ]
     },
     "execution_count": 104,
     "metadata": {},
     "output_type": "execute_result"
    }
   ],
   "source": [
    "len(data)"
   ]
  },
  {
   "cell_type": "code",
   "execution_count": 105,
   "id": "03bfe85a-e414-485a-a446-bfd29d7d21bb",
   "metadata": {},
   "outputs": [],
   "source": [
    "random.shuffle(data)"
   ]
  },
  {
   "cell_type": "code",
   "execution_count": 106,
   "id": "fb8825f8-e168-4915-b6f8-50d16824d353",
   "metadata": {},
   "outputs": [],
   "source": [
    "X=[]\n",
    "Y=[]\n",
    "for features,labels in data:\n",
    "    X.append(features)\n",
    "    Y.append(labels)"
   ]
  },
  {
   "cell_type": "code",
   "execution_count": 107,
   "id": "c7a5b733-7cac-47da-baa0-56bf40701192",
   "metadata": {},
   "outputs": [],
   "source": [
    "X=np.array(X)\n",
    "Y=np.array(Y)"
   ]
  },
  {
   "cell_type": "code",
   "execution_count": 108,
   "id": "26ca4d04-fa7d-419a-821c-13cc389625f3",
   "metadata": {},
   "outputs": [],
   "source": [
    "pickle.dump(X, open('X.pkl','wb'))\n",
    "pickle.dump(Y, open('Y.pkl','wb'))"
   ]
  },
  {
   "cell_type": "code",
   "execution_count": 109,
   "id": "fd01cd77-28fc-478b-91fd-5d853070e422",
   "metadata": {},
   "outputs": [
    {
     "data": {
      "text/plain": [
       "20000"
      ]
     },
     "execution_count": 109,
     "metadata": {},
     "output_type": "execute_result"
    }
   ],
   "source": [
    "len(X)"
   ]
  },
  {
   "cell_type": "code",
   "execution_count": 110,
   "id": "afd896ef-3726-43d1-841f-ab9f63368d53",
   "metadata": {},
   "outputs": [
    {
     "data": {
      "text/plain": [
       "20000"
      ]
     },
     "execution_count": 110,
     "metadata": {},
     "output_type": "execute_result"
    }
   ],
   "source": [
    "len(Y)"
   ]
  },
  {
   "cell_type": "code",
   "execution_count": null,
   "id": "ce3944e4-fe0a-4fa2-9dbe-79f5ccbc1c04",
   "metadata": {},
   "outputs": [],
   "source": []
  }
 ],
 "metadata": {
  "kernelspec": {
   "display_name": "Python 3 (ipykernel)",
   "language": "python",
   "name": "python3"
  },
  "language_info": {
   "codemirror_mode": {
    "name": "ipython",
    "version": 3
   },
   "file_extension": ".py",
   "mimetype": "text/x-python",
   "name": "python",
   "nbconvert_exporter": "python",
   "pygments_lexer": "ipython3",
   "version": "3.12.1"
  }
 },
 "nbformat": 4,
 "nbformat_minor": 5
}
